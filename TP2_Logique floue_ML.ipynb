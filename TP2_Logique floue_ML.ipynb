{
 "cells": [
  {
   "cell_type": "code",
   "execution_count": 1,
   "id": "f221ba53",
   "metadata": {},
   "outputs": [
    {
     "name": "stdout",
     "output_type": "stream",
     "text": [
      "c:\\Users\\essai\\AppData\\Local\\Programs\\Python\\Python313\\python.exe\n"
     ]
    }
   ],
   "source": [
    "import sys\n",
    "print(sys.executable)"
   ]
  },
  {
   "cell_type": "code",
   "execution_count": 2,
   "id": "d96b6e4f",
   "metadata": {},
   "outputs": [],
   "source": [
    "import numpy as np\n",
    "import skfuzzy as fuzz\n",
    "from skfuzzy import control as ctrl\n",
    "import matplotlib.pyplot as plt\n"
   ]
  },
  {
   "cell_type": "markdown",
   "id": "c6e66afc",
   "metadata": {},
   "source": [
    "### Variables floues"
   ]
  },
  {
   "cell_type": "code",
   "execution_count": 3,
   "id": "7d69f35c",
   "metadata": {},
   "outputs": [],
   "source": [
    "Distance_to_next_car = ctrl.Antecedent(np.arange(0, 101, 1), 'Distance_to_next_car')\n",
    "Speed_change = ctrl.Antecedent(np.arange(-20, 21, 1), 'Speed_change')\n",
    "Acceleration_Adjust = ctrl.Consequent(np.arange(-10, 11, 1), 'Acceleration_Adjust')"
   ]
  },
  {
   "cell_type": "markdown",
   "id": "5f924ca2",
   "metadata": {},
   "source": [
    "### Fonctions d’appartenance"
   ]
  },
  {
   "cell_type": "code",
   "execution_count": 4,
   "id": "56308fcb",
   "metadata": {},
   "outputs": [],
   "source": [
    "Distance_to_next_car['close'] = fuzz.trapmf(Distance_to_next_car.universe, [0, 0, 10, 40])\n",
    "Distance_to_next_car['medium'] = fuzz.trimf(Distance_to_next_car.universe, [20, 50, 80])\n",
    "Distance_to_next_car['far'] = fuzz.trapmf(Distance_to_next_car.universe, [60, 90, 100, 100])\n",
    "\n",
    "Speed_change['declining'] = fuzz.trapmf(Speed_change.universe, [-20, -20, -10, 0])\n",
    "Speed_change['constant'] = fuzz.trimf(Speed_change.universe, [-5, 0, 5])\n",
    "Speed_change['growing'] = fuzz.trapmf(Speed_change.universe, [0, 10, 20, 20])\n",
    "\n",
    "Acceleration_Adjust['decrease'] = fuzz.trapmf(Acceleration_Adjust.universe, [-10, -10, -5, 0])\n",
    "Acceleration_Adjust['stable'] = fuzz.trimf(Acceleration_Adjust.universe, [-2, 0, 2])\n",
    "Acceleration_Adjust['increase'] = fuzz.trapmf(Acceleration_Adjust.universe, [0, 5, 10, 10])"
   ]
  },
  {
   "cell_type": "markdown",
   "id": "085ad30c",
   "metadata": {},
   "source": [
    "### Règles floues"
   ]
  },
  {
   "cell_type": "code",
   "execution_count": 5,
   "id": "687b8a1d",
   "metadata": {},
   "outputs": [],
   "source": [
    "rule1 = ctrl.Rule(Distance_to_next_car['close'] & Speed_change['growing'], Acceleration_Adjust['decrease'])\n",
    "rule2 = ctrl.Rule(Distance_to_next_car['far'] & Speed_change['declining'], Acceleration_Adjust['increase'])\n",
    "rule3 = ctrl.Rule(Speed_change['constant'], Acceleration_Adjust['stable'])"
   ]
  },
  {
   "cell_type": "markdown",
   "id": "97002ef2",
   "metadata": {},
   "source": [
    "### Système de contrôle"
   ]
  },
  {
   "cell_type": "code",
   "execution_count": 6,
   "id": "b3a3cfd5",
   "metadata": {},
   "outputs": [],
   "source": [
    "acc_ctrl = ctrl.ControlSystem([rule1, rule2, rule3])\n",
    "acc_sim = ctrl.ControlSystemSimulation(acc_ctrl)"
   ]
  },
  {
   "cell_type": "markdown",
   "id": "82873ac0",
   "metadata": {},
   "source": [
    "### Génération du dataset (1000 observations)"
   ]
  },
  {
   "cell_type": "code",
   "execution_count": 8,
   "id": "45707089",
   "metadata": {},
   "outputs": [
    {
     "name": "stdout",
     "output_type": "stream",
     "text": [
      "✅ Dataset généré avec succès : (1000, 3)\n"
     ]
    }
   ],
   "source": [
    "np.random.seed(42)\n",
    "n = 1000\n",
    "data = []\n",
    "\n",
    "for _ in range(n):\n",
    "    dist = np.random.uniform(0, 100)\n",
    "    spd = np.random.uniform(-20, 20)\n",
    "    # 👉 créer une nouvelle simulation à chaque itération\n",
    "    acc_sim = ctrl.ControlSystemSimulation(acc_ctrl)\n",
    "    acc_sim.input['Distance_to_next_car'] = dist\n",
    "    acc_sim.input['Speed_change'] = spd\n",
    "    try:\n",
    "        acc_sim.compute()\n",
    "        acc = acc_sim.output['Acceleration_Adjust']\n",
    "    except KeyError:\n",
    "        acc = 0  # Valeur par défaut si aucune règle activée\n",
    "    data.append([dist, spd, acc])\n",
    "\n",
    "data = np.array(data)\n",
    "print(\"✅ Dataset généré avec succès :\", data.shape)"
   ]
  },
  {
   "cell_type": "markdown",
   "id": "ada022f2",
   "metadata": {},
   "source": [
    "### Entraînement du modèle ML"
   ]
  },
  {
   "cell_type": "code",
   "execution_count": 9,
   "id": "c5613f6b",
   "metadata": {},
   "outputs": [],
   "source": [
    "from sklearn.model_selection import train_test_split\n",
    "from sklearn.ensemble import RandomForestRegressor\n",
    "from sklearn.metrics import mean_absolute_error, mean_squared_error\n",
    "\n",
    "X = data[:, :2]   # entrées : distance, speed_change\n",
    "y = data[:, 2]    # sortie floue défuzzifiée\n",
    "\n",
    "X_train, X_test, y_train, y_test = train_test_split(X, y, test_size=0.2, random_state=42)\n",
    "\n",
    "model = RandomForestRegressor(n_estimators=100, random_state=42)\n",
    "model.fit(X_train, y_train)\n",
    "\n",
    "y_pred = model.predict(X_test)\n"
   ]
  },
  {
   "cell_type": "markdown",
   "id": "f81c5792",
   "metadata": {},
   "source": [
    "### Évaluation des performances"
   ]
  },
  {
   "cell_type": "code",
   "execution_count": 10,
   "id": "63f3439c",
   "metadata": {},
   "outputs": [
    {
     "name": "stdout",
     "output_type": "stream",
     "text": [
      "Erreur absolue moyenne (MAE) : 0.040\n",
      "Erreur quadratique moyenne (MSE) : 0.024\n"
     ]
    }
   ],
   "source": [
    "MAE = mean_absolute_error(y_test, y_pred)\n",
    "MSE = mean_squared_error(y_test, y_pred)\n",
    "\n",
    "print(f\"Erreur absolue moyenne (MAE) : {MAE:.3f}\")\n",
    "print(f\"Erreur quadratique moyenne (MSE) : {MSE:.3f}\")\n"
   ]
  }
 ],
 "metadata": {
  "kernelspec": {
   "display_name": "Python 3",
   "language": "python",
   "name": "python3"
  },
  "language_info": {
   "codemirror_mode": {
    "name": "ipython",
    "version": 3
   },
   "file_extension": ".py",
   "mimetype": "text/x-python",
   "name": "python",
   "nbconvert_exporter": "python",
   "pygments_lexer": "ipython3",
   "version": "3.13.2"
  }
 },
 "nbformat": 4,
 "nbformat_minor": 5
}
